{
  "nbformat": 4,
  "nbformat_minor": 0,
  "metadata": {
    "colab": {
      "provenance": [],
      "authorship_tag": "ABX9TyOc8m6Kld8wC/gJcE42dUeo",
      "include_colab_link": true
    },
    "kernelspec": {
      "name": "python3",
      "display_name": "Python 3"
    },
    "language_info": {
      "name": "python"
    }
  },
  "cells": [
    {
      "cell_type": "markdown",
      "metadata": {
        "id": "view-in-github",
        "colab_type": "text"
      },
      "source": [
        "<a href=\"https://colab.research.google.com/github/Xueting-Z/Test/blob/main/Untitled1.ipynb\" target=\"_parent\"><img src=\"https://colab.research.google.com/assets/colab-badge.svg\" alt=\"Open In Colab\"/></a>"
      ]
    },
    {
      "cell_type": "code",
      "execution_count": 2,
      "metadata": {
        "colab": {
          "base_uri": "https://localhost:8080/",
          "height": 35
        },
        "id": "gjEc_zxIn88g",
        "outputId": "25948ddf-c11c-43a5-e48e-6233a3409ac9"
      },
      "outputs": [
        {
          "output_type": "execute_result",
          "data": {
            "text/plain": [
              "'hello world'"
            ],
            "application/vnd.google.colaboratory.intrinsic+json": {
              "type": "string"
            }
          },
          "metadata": {},
          "execution_count": 2
        }
      ],
      "source": [
        "def print():\n",
        "  return('hello world')\n",
        "print()"
      ]
    },
    {
      "cell_type": "markdown",
      "source": [
        "# This is my first colab exercise"
      ],
      "metadata": {
        "id": "fWMm9-7uoTkt"
      }
    },
    {
      "cell_type": "markdown",
      "source": [
        "This is 1 url [https://translate.google.de/?sl=en&tl=zh-CN&op=translate]"
      ],
      "metadata": {
        "id": "H-6Rl214pfcF"
      }
    }
  ]
}